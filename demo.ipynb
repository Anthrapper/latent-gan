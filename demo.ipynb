{
 "cells": [
  {
   "cell_type": "code",
   "execution_count": 1,
   "metadata": {},
   "outputs": [
    {
     "name": "stdout",
     "output_type": "stream",
     "text": [
      "env: CUDA_DEVICE_ORDER=PCI_BUS_ID\n",
      "env: CUDA_VISIBLE_DEVICES=1 # GPU ID\n"
     ]
    },
    {
     "name": "stderr",
     "output_type": "stream",
     "text": [
      "Using TensorFlow backend.\n"
     ]
    }
   ],
   "source": [
    "%load_ext autoreload\n",
    "%autoreload 2\n",
    "\n",
    "\n",
    "import numpy as np\n",
    "import rdkit\n",
    "from rdkit import Chem\n",
    "\n",
    "import h5py, ast, pickle\n",
    "\n",
    "# If run on CUDA node, you must select a GPU, otherwise comment the 2 following lines out!\n",
    "%env CUDA_DEVICE_ORDER=PCI_BUS_ID\n",
    "%env CUDA_VISIBLE_DEVICES=1 # GPU ID\n",
    "\n",
    "import ddc_v3 as ddc"
   ]
  },
  {
   "cell_type": "code",
   "execution_count": 2,
   "metadata": {},
   "outputs": [
    {
     "name": "stdout",
     "output_type": "stream",
     "text": [
      "Initializing model in test mode.\n",
      "Loading model.\n"
     ]
    },
    {
     "name": "stderr",
     "output_type": "stream",
     "text": [
      "/home/kjmv588/miniconda3/envs/keras2/lib/python3.6/site-packages/keras/engine/saving.py:292: UserWarning: No training configuration found in save file: the model was *not* compiled. Compile it manually.\n",
      "  warnings.warn('No training configuration found in save file: '\n",
      "/home/kjmv588/miniconda3/envs/keras2/lib/python3.6/site-packages/keras/engine/network.py:877: UserWarning: Layer Decoder_LSTM_0 was passed non-serializable keyword arguments: {'initial_state': [<tf.Tensor 'Decoder_State_h_0_2:0' shape=(?, 512) dtype=float32>, <tf.Tensor 'Decoder_State_c_0_2:0' shape=(?, 512) dtype=float32>]}. They will not be included in the serialized model (and thus will be missing at deserialization time).\n",
      "  '. They will not be included '\n",
      "/home/kjmv588/miniconda3/envs/keras2/lib/python3.6/site-packages/keras/engine/network.py:877: UserWarning: Layer Decoder_LSTM_1 was passed non-serializable keyword arguments: {'initial_state': [<tf.Tensor 'Decoder_State_h_1_2:0' shape=(?, 512) dtype=float32>, <tf.Tensor 'Decoder_State_c_1_2:0' shape=(?, 512) dtype=float32>]}. They will not be included in the serialized model (and thus will be missing at deserialization time).\n",
      "  '. They will not be included '\n",
      "/home/kjmv588/miniconda3/envs/keras2/lib/python3.6/site-packages/keras/engine/network.py:877: UserWarning: Layer Decoder_LSTM_2 was passed non-serializable keyword arguments: {'initial_state': [<tf.Tensor 'Decoder_State_h_2_2:0' shape=(?, 512) dtype=float32>, <tf.Tensor 'Decoder_State_c_2_2:0' shape=(?, 512) dtype=float32>]}. They will not be included in the serialized model (and thus will be missing at deserialization time).\n",
      "  '. They will not be included '\n",
      "/home/kjmv588/miniconda3/envs/keras2/lib/python3.6/site-packages/keras/engine/network.py:877: UserWarning: Layer Decoder_LSTM_3 was passed non-serializable keyword arguments: {'initial_state': [<tf.Tensor 'Decoder_State_h_3_2:0' shape=(?, 512) dtype=float32>, <tf.Tensor 'Decoder_State_c_3_2:0' shape=(?, 512) dtype=float32>]}. They will not be included in the serialized model (and thus will be missing at deserialization time).\n",
      "  '. They will not be included '\n"
     ]
    },
    {
     "name": "stdout",
     "output_type": "stream",
     "text": [
      "Loading finished in 88 seconds.\n",
      "__________________________________________________________________________________________________\n",
      "Layer (type)                    Output Shape         Param #     Connected to                     \n",
      "==================================================================================================\n",
      "Encoder_Inputs (InputLayer)     (None, 138, 35)      0                                            \n",
      "__________________________________________________________________________________________________\n",
      "mol_to_latent_model (Model)     (None, 512)          3238400     Encoder_Inputs[0][0]             \n",
      "__________________________________________________________________________________________________\n",
      "Decoder_Inputs (InputLayer)     (None, 137, 35)      0                                            \n",
      "__________________________________________________________________________________________________\n",
      "latent_to_states_model (Model)  [(None, 512), (None, 2117632     mol_to_latent_model[1][0]        \n",
      "__________________________________________________________________________________________________\n",
      "batch_model (Model)             (None, 137, 35)      7454243     Decoder_Inputs[0][0]             \n",
      "                                                                 latent_to_states_model[1][0]     \n",
      "                                                                 latent_to_states_model[1][1]     \n",
      "                                                                 latent_to_states_model[1][2]     \n",
      "                                                                 latent_to_states_model[1][3]     \n",
      "                                                                 latent_to_states_model[1][4]     \n",
      "                                                                 latent_to_states_model[1][5]     \n",
      "                                                                 latent_to_states_model[1][6]     \n",
      "                                                                 latent_to_states_model[1][7]     \n",
      "==================================================================================================\n",
      "Total params: 12,810,275\n",
      "Trainable params: 12,791,843\n",
      "Non-trainable params: 18,432\n",
      "__________________________________________________________________________________________________\n",
      "None\n"
     ]
    }
   ],
   "source": [
    "# Import existing (trained) model\n",
    "# Ignore UserWarning(s) about training configuration or non-seriazable keyword arguments\n",
    "model_name = \"models/heteroencoder/9784435\"\n",
    "model = ddc.DDC(model_name=model_name)"
   ]
  },
  {
   "cell_type": "code",
   "execution_count": 41,
   "metadata": {},
   "outputs": [],
   "source": [
    "# Input SMILES to auto-encode\n",
    "smiles_in = ['Cc1cccn2c(CN(C)C3CCCc4ccccc43)c(C(=O)N3CCOCC3)nc12',\n",
    "             'COC(=O)NN=C(c1ccc(O)cc1)C1C(=O)N(C)C(=O)N(C)C1=O',\n",
    "             'CCc1cc(CC)nc(OCCCn2c3c(c4cc(-c5nc(C)no5)ccc42)CC(F)(F)CC3)n1',\n",
    "             'Cc1ccc2c(C(=O)Nc3ccccc3)c(SSc3c(C(=O)Nc4ccccc4)c4ccc(C)cc4n3C)n(C)c2c1',\n",
    "             'Cc1cccc(-c2ccccc2)c1Oc1nc(O)nc(NCc2ccc3occc3c2)n1',\n",
    "             'Cn1nnnc1SCC(=O)NN=Cc1ccc(Cl)cc1',\n",
    "             'COc1cccc(NS(=O)(=O)c2ccc(OC)c(OC)c2)c1',\n",
    "             'COc1ccc(OC)c(S(=O)(=O)n2nc(C)cc2C)c1',\n",
    "             'NCCCn1cc(C2=C(c3ccncc3)C(=O)NC2=O)c2ccccc21',\n",
    "             'CN(C)C(=O)N1CCN(C(c2ccc(Cl)cc2)c2cccnc2)CC1']\n",
    "\n",
    "# MUST convert SMILES to binary mols for the model to accept them (it re-converts them to SMILES internally)\n",
    "mols_in = [Chem.rdchem.Mol.ToBinary(Chem.MolFromSmiles(smiles)) for smiles in smiles_in]"
   ]
  },
  {
   "cell_type": "code",
   "execution_count": 42,
   "metadata": {},
   "outputs": [],
   "source": [
    "# Encode the binary mols into their latent representations\n",
    "latent = model.transform(model.vectorize(mols_in))"
   ]
  },
  {
   "cell_type": "code",
   "execution_count": 39,
   "metadata": {
    "collapsed": true
   },
   "outputs": [
    {
     "data": {
      "text/plain": [
       "(array(['c1ccc2c(c1)CCCC2N(C)Cc1nc2n(cccc2C)c1C(N1CCOCC1)=O',\n",
       "        'c1cccc2c1CCCC2N(C)Cc1nc2c(C)cccn2c1C(=O)N1CCOCC1',\n",
       "        'c1cccc2c1C(N(C)Cc1nc3n(cccc3C)c1C(=O)N1CCOCC1)CCC2',\n",
       "        'c1cccc2c1C(N(C)Cc1n3cccc(C)c3nc1C(=O)N1CCOCC1)CCC2',\n",
       "        'c1ccc2c(c1)CCCC2N(C)Cc1n2cccc(C)c2nc1C(N1CCOCC1)=O',\n",
       "        'c1ccc2c(c1)C(N(C)Cc1n3cccc(C)c3nc1C(=O)N1CCOCC1)CCC2',\n",
       "        'c1cccc2c1CCCC2N(C)Cc1n2cccc(C)c2nc1C(=O)N1CCOCC1',\n",
       "        'c1cccc2c1CCCC2N(C)Cc1n2cccc(C)c2nc1C(=O)N1CCOCC1',\n",
       "        'c1cccc2c1CCCC2N(C)Cc1n2cccc(C)c2nc1C(=O)N1CCOCC1',\n",
       "        'c1ccc2c(c1)CCCC2N(C)Cc1nc2c(C)cccn2c1C(=O)N1CCOCC1',\n",
       "        'c1ccc2c(c1)CCCC2N(C)Cc1n2cccc(C)c2nc1C(N1CCOCC1)=O',\n",
       "        'c1ccc2c(c1)CCCC2N(C)Cc1nc2c(C)cccn2c1C(=O)N1CCOCC1',\n",
       "        'c1cccc2c1CCCC2N(C)Cc1n2cccc(C)c2nc1C(N1CCOCC1)=O',\n",
       "        'c1cccc2c1CCCC2N(C)Cc1n2cccc(C)c2nc1C(N1CCOCC1)=O',\n",
       "        'c1cccc2c1C(N(C)Cc1n3cccc(C)c3nc1C(=O)N1CCOCC1)CCC2',\n",
       "        'c1ccc2c(c1)C(N(C)Cc1n3cccc(C)c3nc1C(=O)N1CCOCC1)CCC2',\n",
       "        'c1ccc2c(c1)C(N(C)Cc1nc3n(cccc3C)c1C(=O)N1CCOCC1)CCC2',\n",
       "        'c1cccc2c1C(N(C)Cc1n3cccc(C)c3nc1C(=O)N1CCOCC1)CCC2',\n",
       "        'c1cccc2c1CCCC2N(C)Cc1nc2c(C)cccn2c1C(=O)N1CCOCC1',\n",
       "        'c1cccc2c1CCCC2N(C)Cc1nc2c(C)cccn2c1C(=O)N1CCOCC1',\n",
       "        'c1cccc2c1CCCC2N(C)Cc1nc2c(C)cccn2c1C(N1CCOCC1)=O',\n",
       "        'c1cccc2c1CCCC2N(C)Cc1n2cccc(C)c2nc1C(=O)N1CCOCC1',\n",
       "        'c1cccc2c1CCCC2N(C)Cc1n2cccc(C)c2nc1C(=O)N1CCOCC1',\n",
       "        'c1cccc2c1CCCC2N(C)Cc1n2cccc(C)c2nc1C(N1CCOCC1)=O',\n",
       "        'c1cccc2c1C(N(C)Cc1c(C(=O)N3CCOCC3)nc3c(C)cccn13)CCC2',\n",
       "        'c1cccc2c1CCCC2N(C)Cc1n2cccc(C)c2nc1C(N1CCOCC1)=O',\n",
       "        'c1ccc2c(c1)CCCC2N(C)Cc1nc2n(cccc2C)c1C(N1CCOCC1)=O',\n",
       "        'c1cccc2c1CCCC2N(C)Cc1n2cccc(C)c2nc1C(N1CCOCC1)=O',\n",
       "        'c1cccc2c1CCCC2N(C)Cc1nc2c(C)cccn2c1C(=O)N1CCOCC1',\n",
       "        'c1cccc2c1CCCC2N(C)Cc1n2cccc(C)c2nc1C(N1CCOCC1)=O',\n",
       "        'c1ccc2c(c1)CCCC2N(C)Cc1nc2n(cccc2C)c1C(N1CCOCC1)=O',\n",
       "        'c1cccc2c1CCCC2N(C)Cc1nc2c(C)cccn2c1C(N1CCOCC1)=O',\n",
       "        'c1cccc2c1CCCC2N(C)Cc1n2cccc(C)c2nc1C(N1CCOCC1)=O',\n",
       "        'c1cccc2c1C(N(C)Cc1n3cccc(C)c3nc1C(=O)N1CCOCC1)CCC2',\n",
       "        'c1cccc2c1CCCC2N(C)Cc1n2cccc(C)c2nc1C(N1CCOCC1)=O',\n",
       "        'c1ccc2c(c1)CCCC2N(C)Cc1n2cccc(C)c2nc1C(N1CCOCC1)=O',\n",
       "        'c1cccc2c1CCCC2N(C)Cc1n2cccc(C)c2nc1C(N1CCOCC1)=O',\n",
       "        'c1cccc2c1CCCC2N(C)Cc1n2cccc(C)c2nc1C(N1CCOCC1)=O',\n",
       "        'c1cccc2c1CCCC2N(C)Cc1n2cccc(C)c2nc1C(N1CCOCC1)=O',\n",
       "        'c1cccc2c1CCCC2N(C)Cc1n2cccc(C)c2nc1C(=O)N1CCOCC1',\n",
       "        'c1cccc2c1C(N(C)Cc1n3cccc(C)c3nc1C(=O)N1CCOCC1)CCC2',\n",
       "        'c1cccc(C)c2nc(CN(C)C3CCCc4cccnc43)c(C(=O)N3CCOCC3)c12',\n",
       "        'c1cccc2c1CCCC2N(C)Cc1n2cccc(C)c2nc1C(=O)N1CCOCC1',\n",
       "        'c1ccc2c(c1)CCCC2N(C)Cc1n2cccc(C)c2nc1C(N1CCOCC1)=O',\n",
       "        'c1cccc2c1CCCC2N(C)Cc1n2cccc(C)c2nc1C(N1CCOCC1)=O',\n",
       "        'c1cccc2c1CCCC2N(C)Cc1n2cccc(C)c2nc1C(N1CCOCC1)=O',\n",
       "        'c1cccc2c1CCCC2N(C)Cc1n2cccc(C)c2nc1C(N1CCOCC1)=O',\n",
       "        'c1cccc2c1C(N(C)Cc1n3cccc(C)c3nc1C(=O)N1CCOCC1)CCC2',\n",
       "        'c1cccc2c1C(N(C)Cc1n3cccc(C)c3nc1C(=O)N1CCOCC1)CCC2',\n",
       "        'c1ccc2c(c1)CCCC2N(C)Cc1nc2c(C)cccn2c1C(N1CCOCC1)=O',\n",
       "        'c1ccc2c(c1)CCCC2N(C)Cc1n2cccc(C)c2nc1C(N1CCOCC1)=O',\n",
       "        'c1cccc2c1CCCC2N(C)Cc1nc2c(C)cccn2c1C(N1CCOCC1)=O',\n",
       "        'c1ccc2c(c1)CCCC2N(C)Cc1n2cccc(C)c2nc1C(N1CCOCC1)=O',\n",
       "        'c1cccc2c1C(N(C)Cc1n3cccc(C)c3nc1C(=O)N1CCOCC1)CCC2',\n",
       "        'c1cccc2c1C(N(C)Cc1n3cccc(C)c3nc1C(=O)N1CCOCC1)CCC2',\n",
       "        'c1ccc2c(c1)CCCC2N(C)Cc1n2cccc(C)c2nc1C(N1CCOCC1)=O',\n",
       "        'c1cccc2c1CCCC2N(C)Cc1n2cccc(C)c2nc1C(=O)N1CCOCC1',\n",
       "        'c1cccc2c1C(N(C)Cc1nc3n(cccc3C)c1C(=O)N1CCOCC1)CCC2',\n",
       "        'c1ccc2c(c1)CCCC2N(C)Cc1nc2c(C)cccn2c1C(=O)N1CCOCC1',\n",
       "        'c1cccc2c1CCCC2N(C)Cc1n2cccc(C)c2nc1C(N1CCOCC1)=O',\n",
       "        'c1cccc2c1CCCC2N(C)Cc1n2cccc(C)c2nc1C(N1CCOCC1)=O',\n",
       "        'c1ccc2c(c1)CCCC2N(C)Cc1n2cccc(C)c2nc1C(N1CCOCC1)=O',\n",
       "        'c1cccc2c1CCCC2N(C)Cc1nc2c(C)cccn2c1C(N1CCOCC1)=O',\n",
       "        'c1cccc2c1CCCC2N(C)Cc1nc2c(C)cccn2c1C(N1CCOCC1)=O',\n",
       "        'c1cccc2c1CCCC2N(C)Cc1n2cccc(C)c2nc1C(=O)N1CCOCC1',\n",
       "        'c1cccc2c1CCCC2N(C)Cc1n2cccc(C)c2nc1C(=O)N1CCOCC1',\n",
       "        'c1ccc2c(c1)C(N(C)Cc1n3cccc(C)c3nc1C(=O)N1CCOCC1)CCC2',\n",
       "        'c1cccc2c1CCCC2N(C)Cc1nc2c(C)cccn2c1C(=O)N1CCOCC1',\n",
       "        'c1cccc2c1CCCC2N(C)Cc1nc2c(C)cccn2c1C(N1CCOCC1)=O',\n",
       "        'c1cccc2c1CCCC2N(C)Cc1n2cccc(C)c2nc1C(=O)N1CCOCC1',\n",
       "        'c1cccc2c1C(N(C)Cc1n3cccc(C)c3nc1C(=O)N1CCOCC1)CCC2',\n",
       "        'c1cccc2c1CCCC2N(C)Cc1nc2c(C)cccn2c1C(=O)N1CCOCC1',\n",
       "        'c1ccc2c(c1)CCCC2N(C)Cc1nc2n(cccc2C)c1C(N1CCOCC1)=O',\n",
       "        'c1cccc2c1CCCC2N(C)Cc1nc2c(C)cccn2c1C(=O)N1CCOCC1',\n",
       "        'c1ccc2c(c1)CCCC2N(C)Cc1nc2c(C)cccn2c1C(=O)N1CCOCC1',\n",
       "        'c1ccc2c(c1)CCCC2N(C)Cc1n2cccc(C)c2nc1C(N1CCOCC1)=O',\n",
       "        'c1cccc2c1CCCC2N(C)Cc1nc2c(C)cccn2c1C(=O)N1CCOCC1',\n",
       "        'c1cccc2c1C(N(C)Cc1n3c(c(C)ccc3)nc1C(=O)N1CCOCC1)CCC2',\n",
       "        'c1cccc2c1CCCC2N(C)Cc1n2cccc(C)c2nc1C(=O)N1CCOCC1',\n",
       "        'c1ccc2c(c1)CCCC2N(C)Cc1n2cccc(C)c2nc1C(=O)N1CCOCC1',\n",
       "        'c1cccc2c1CCCC2N(C)Cc1n2cccc(C)c2nc1C(N1CCOCC1)=O',\n",
       "        'c1ccc2c(c1)CCCC2N(C)Cc1n2cccc(C)c2nc1C(N1CCOCC1)=O',\n",
       "        'c1cccc2c1C(N(C)Cc1n3cccc(C)c3nc1C(=O)N1CCOCC1)CCC2',\n",
       "        'c1cccc2c1CCCC2N(C)Cc1n2cccc(C)c2nc1C(=O)N1CCOCC1',\n",
       "        'c1cccc2c1CCCC2N(C)Cc1n2cccc(C)c2nc1C(=O)N1CCOCC1',\n",
       "        'c1cccc2c1CCCC2N(C)Cc1n2cccc(C)c2nc1C(N1CCOCC1)=O',\n",
       "        'c1cccc2c1C(N(C)Cc1n3cccc(C)c3nc1C(=O)N1CCOCC1)CCC2',\n",
       "        'c1ccc2c(c1)C(N(C)Cc1n3cccc(C)c3nc1C(=O)N1CCOCC1)CCC2',\n",
       "        'c1cccc2c1CCCC2N(C)Cc1nc2c(C)cccn2c1C(=O)N1CCOCC1',\n",
       "        'c1cccc2c1CCCC2N(C)Cc1nc2c(C)cccn2c1C(N1CCOCC1)=O',\n",
       "        'c1ccc2c(c1)C(N(C)Cc1n3cccc(C)c3nc1C(=O)N1CCOCC1)CCC2',\n",
       "        'c1cccc2c1C(N(C)Cc1nc3c(C)cccn3c1C(=O)N1CCOCC1)CCC2',\n",
       "        'c1ccc2c(c1)C(N(C)Cc1n3cccc(C)c3nc1C(=O)N1CCOCC1)CCC2',\n",
       "        'c1cccc2c1CCCC2N(C)Cc1n2cccc(C)c2nc1C(N1CCOCC1)=O',\n",
       "        'c1cccc2c1CCCC2N(C)Cc1n2cccc(C)c2nc1C(N1CCOCC1)=O',\n",
       "        'c1cccc2c1CCCC2N(C)Cc1nc2n(cccc2C)c1C(N1CCOCC1)=O',\n",
       "        'c1ccc2c(c1)CCCC2N(C)Cc1n2cccc(C)c2nc1C(=O)N1CCOCC1',\n",
       "        'c1ccc2c(c1)C(N(C)Cc1n3cccc(C)c3nc1C(=O)N1CCOCC1)CCC2',\n",
       "        'c1cccc2c1CCCC2N(C)Cc1n2cccc(C)c2nc1C(=O)N1CCOCC1',\n",
       "        'c1ccc2c(c1)CCCC2N(C)Cc1nc2n(cccc2C)c1C(N1CCOCC1)=O',\n",
       "        'c1cccc2c1C(N(C)Cc1n3cccc(C)c3nc1C(=O)N1CCOCC1)CCC2',\n",
       "        'c1cccc2c1C(N(C)Cc1n3cccc(C)c3nc1C(=O)N1CCOCC1)CCC2',\n",
       "        'c1cccc2c1CCCC2N(C)Cc1n2cccc(C)c2nc1C(=O)N1CCOCC1',\n",
       "        'c1ccc2c(c1)CCCC2N(C)Cc1nc2c(C)cccn2c1C(N1CCOCC1)=O',\n",
       "        'c1cccc2c1C(N(C)Cc1n3cccc(C)c3nc1C(=O)N1CCOCC1)CCC2',\n",
       "        'c1ccc2c(c1)CCCC2N(C)Cc1n2cccc(C)c2nc1C(N1CCOCC1)=O',\n",
       "        'c1cccc2c1CCCC2N(C)Cc1n2cccc(C)c2nc1C(N1CCOCC1)=O',\n",
       "        'c1cccc2c1CCCC2N(C)Cc1n2cccc(C)c2nc1C(N1CCOCC1)=O',\n",
       "        'c1ccc2c(c1)C(N(C)Cc1n3cccc(C)c3nc1C(=O)N1CCOCC1)CCC2',\n",
       "        'c1cccc2c1CCCC2N(C)Cc1n2cccc(C)c2nc1C(N1CCOCC1)=O',\n",
       "        'c1cccc2c1C(N(C)Cc1nc3n(cccc3C)c1C(=O)N1CCOCC1)CCC2',\n",
       "        'c1ccc2c(c1)C(N(C)Cc1n3cccc(C)c3nc1C(=O)N1CCOCC1)CCC2',\n",
       "        'c1cccc2c1CCCC2N(C)Cc1n2cccc(C)c2nc1C(N1CCOCC1)=O',\n",
       "        'c1cccc2c1CCCC2N(C)Cc1nc2c(C)cccn2c1C(N1CCOCC1)=O',\n",
       "        'c1cccc2c1CCCC2N(C)Cc1n2cccc(C)c2nc1C(N1CCOCC1)=O',\n",
       "        'c1cccc2c1C(N(C)Cc1nc3c(C)cccn3c1C(N1CCOCC1)=O)CCC2',\n",
       "        'c1cccc2c1C(N(C)Cc1n3cccc(C)c3nc1C(=O)N1CCOCC1)CCC2',\n",
       "        'c1cccc2c1CCCC2N(C)Cc1n2cccc(C)c2nc1C(N1CCOCC1)=O',\n",
       "        'c1cccc2c1C(N(C)Cc1n3c(c(C)ccc3)nc1C(=O)N1CCOCC1)CCC2',\n",
       "        'c1cccc2c1CCCC2N(C)Cc1n2cccc(C)c2nc1C(=O)N1CCOCC1',\n",
       "        'c1cccc2c1C(N(C)Cc1n3cccc(C)c3nc1C(=O)N1CCOCC1)CCC2',\n",
       "        'c1ccc2c(c1)CCCC2N(C)Cc1n2cccc(C)c2nc1C(N1CCOCC1)=O',\n",
       "        'c1cccc2c1C(N(C)Cc1nc3n(cccc3C)c1C(=O)N1CCOCC1)CCC2',\n",
       "        'c1cccc2c1CCCC2N(C)Cc1n2cccc(C)c2nc1C(N1CCOCC1)=O',\n",
       "        'c1cccc2c1CCCC2N(C)Cc1n2cccc(C)c2nc1C(N1CCOCC1)=O',\n",
       "        'c1ccc2c(c1)CCCC2N(C)Cc1nc2n(cccc2C)c1C(N1CCOCC1)=O',\n",
       "        'c1cccc2c1C(N(C)Cc1nc3c(C)cccn3c1C(N1CCOCC1)=O)CCC2',\n",
       "        'c1cccc2c1CCCC2N(C)Cc1nc2c(C)cccn2c1C(=O)N1CCOCC1'], dtype=object),\n",
       " array([7.62434121, 7.70241485, 8.31267992, 7.61816959, 7.58393179,\n",
       "        7.11887788, 8.26613638, 8.10826657, 8.2814125 , 7.48646673,\n",
       "        7.6523056 , 7.47662592, 7.91291084, 7.48580727, 7.6169086 ,\n",
       "        7.49423334, 8.48987561, 7.74241212, 7.91126088, 8.09377827,\n",
       "        7.49591441, 7.96113917, 8.37283692, 7.42593043, 8.42339318,\n",
       "        7.61334507, 7.76400802, 8.03764891, 7.72790052, 7.8907966 ,\n",
       "        8.41401627, 7.38484809, 7.39431631, 7.6637915 , 8.06903017,\n",
       "        7.87829376, 7.86173183, 7.03669682, 7.7812931 , 8.84119237,\n",
       "        7.89465018, 8.02473124, 7.43593478, 7.79979415, 7.80249355,\n",
       "        8.24469418, 7.72519803, 7.27759894, 7.42307882, 7.91951146,\n",
       "        7.23773167, 7.310997  , 7.24260032, 7.66273991, 7.20768618,\n",
       "        7.72166848, 8.23655645, 8.71198634, 7.62389915, 8.07144182,\n",
       "        7.69634162, 7.69389743, 7.7981412 , 7.40220611, 7.4356595 ,\n",
       "        8.03093516, 7.28322415, 8.35428643, 7.1065334 , 8.2814125 ,\n",
       "        7.86625225, 7.53093665, 8.1805935 , 8.16501856, 7.49371717,\n",
       "        7.17801683, 7.73274255, 7.72843042, 8.1599076 , 7.92403819,\n",
       "        7.57766171, 7.72166848, 7.55812896, 7.94603644, 8.38111898,\n",
       "        8.05682002, 7.6921103 , 7.4528241 , 8.24644416, 7.47776531,\n",
       "        7.52146666, 7.89244157, 7.39985222, 7.9784604 , 8.06903017,\n",
       "        8.02340474, 7.98059953, 6.95504341, 7.83683228, 7.85152005,\n",
       "        7.71188338, 7.97254881, 8.33696425, 7.92938241, 7.91898545,\n",
       "        7.37830501, 7.65939465, 7.78373212, 7.44205252, 8.02885994,\n",
       "        8.00754601, 7.59429581, 8.01667928, 7.64416266, 7.39220976,\n",
       "        6.92850362, 7.70304179, 8.10559259, 8.3630006 , 8.05799504,\n",
       "        7.10551973, 7.79699633, 8.70204531, 7.37759496, 7.56453484,\n",
       "        7.96335567, 6.85295287, 8.09377827]))"
      ]
     },
     "execution_count": 39,
     "metadata": {},
     "output_type": "execute_result"
    }
   ],
   "source": [
    "# If you want to decode a batch of latent vectors in parallel\n",
    "# you must split your latent vectors in batches of shape\n",
    "# np.ndarray(model.batch_input_length, model.codelayer_dim)\n",
    "#model.predict_batch(latent=latent, temp=0)"
   ]
  },
  {
   "cell_type": "code",
   "execution_count": 43,
   "metadata": {},
   "outputs": [],
   "source": [
    "# Convert back to SMILES\n",
    "smiles_out = []\n",
    "for lat in latent:   \n",
    "    smiles, _ = model.predict(lat, temp=0)\n",
    "    smiles_out.append(smiles)"
   ]
  },
  {
   "cell_type": "code",
   "execution_count": 44,
   "metadata": {},
   "outputs": [],
   "source": [
    "# To compare the results, convert smiles_out to CANONICAL\n",
    "for idx, smiles in enumerate(smiles_out):\n",
    "    mol = Chem.MolFromSmiles(smiles)\n",
    "    if mol:\n",
    "        smiles_out[idx] = Chem.MolToSmiles(mol, canonical=True)\n",
    "    else:\n",
    "        smiles_out[idx] = \"INVALID\""
   ]
  },
  {
   "cell_type": "code",
   "execution_count": 45,
   "metadata": {},
   "outputs": [
    {
     "data": {
      "text/plain": [
       "['Cc1cccn2c(CN(C)C3CCCc4ccccc43)c(C(=O)N3CCOCC3)nc12',\n",
       " 'COC(=O)NN=C(c1ccc(O)cc1)C1C(=O)N(C)C(=O)N(C)C1=O',\n",
       " 'CCc1cc(CC)nc(OCCCn2c3c(c4cc(-c5nc(C)no5)ccc42)CC(F)(F)CC3)n1',\n",
       " 'Cc1ccc2c(C(=O)Nc3ccccc3)c(SSc3c(C(=O)Nc4ccccc4)c4ccc(C)cc4n3C)n(C)c2c1',\n",
       " 'Cc1cccc(-c2ccccc2)c1Oc1nc(O)nc(NCc2ccc3occc3c2)n1',\n",
       " 'Cn1nnnc1SCC(=O)NN=Cc1ccc(Cl)cc1',\n",
       " 'COc1cccc(NS(=O)(=O)c2ccc(OC)c(OC)c2)c1',\n",
       " 'COc1ccc(OC)c(S(=O)(=O)n2nc(C)cc2C)c1',\n",
       " 'NCCCn1cc(C2=C(c3ccncc3)C(=O)NC2=O)c2ccccc21',\n",
       " 'CN(C)C(=O)N1CCN(C(c2ccc(Cl)cc2)c2cccnc2)CC1']"
      ]
     },
     "execution_count": 45,
     "metadata": {},
     "output_type": "execute_result"
    }
   ],
   "source": [
    "smiles_in"
   ]
  },
  {
   "cell_type": "code",
   "execution_count": 46,
   "metadata": {},
   "outputs": [
    {
     "data": {
      "text/plain": [
       "['Cc1cccn2c(C(=O)N3CCOCC3)c(CN(C)C3CCCc4ccccc43)nc12',\n",
       " 'COC(=O)NN=C(c1ccc(O)cc1)C1C(=O)N(C)C(=O)N(C)C1=O',\n",
       " 'CCc1cc(-c2ccc3c(c2)c2c(n3CCCF)CCC(C)(F)C2)nc(OCCc2nc(C)no2)n1',\n",
       " 'Cc1ccc2c(C(=O)Nc3ccccc3)c(SSc3c(C(=O)Nc4ccccc4)c4ccc(C)cc4n3C)n(C)c2c1',\n",
       " 'Oc1nc(NCc2ccc3occc3c2)nc(Oc2ccccc2-c2ccccc2)n1',\n",
       " 'Cn1nnnc1SCC(=O)NN=Cc1ccc(Cl)cc1',\n",
       " 'COc1cccc(NS(=O)(=O)c2ccc(OC)c(OC)c2)c1',\n",
       " 'COc1ccc(OC)c(S(=O)(=O)n2nc(C)cc2C)c1',\n",
       " 'NCCCn1cc(C2=C(c3ccncc3)C(=O)NC2=O)c2ccccc21',\n",
       " 'CN(C)C(=O)N1CCN(C(c2ccc(Cl)cc2)c2cccnc2)CC1']"
      ]
     },
     "execution_count": 46,
     "metadata": {},
     "output_type": "execute_result"
    }
   ],
   "source": [
    "smiles_out"
   ]
  },
  {
   "cell_type": "code",
   "execution_count": 47,
   "metadata": {},
   "outputs": [
    {
     "name": "stdout",
     "output_type": "stream",
     "text": [
      "Validity: 1.00\n",
      "Reconstructability: 0.70\n"
     ]
    }
   ],
   "source": [
    "# Validity\n",
    "out = np.asarray(smiles_out)\n",
    "valids = len(out[out[:]!=\"INVALID\"])\n",
    "print(\"Validity: %.2f\" % ( valids / len(out)))\n",
    "\n",
    "# Reconstructability\n",
    "print(\"Reconstructability: %.2f\" % ( len(set(smiles_in) & set(smiles_out)) / valids ) )\n"
   ]
  }
 ],
 "metadata": {
  "kernelspec": {
   "display_name": "keras2 (conda, py3)",
   "language": "python",
   "name": "keras2"
  },
  "language_info": {
   "codemirror_mode": {
    "name": "ipython",
    "version": 3
   },
   "file_extension": ".py",
   "mimetype": "text/x-python",
   "name": "python",
   "nbconvert_exporter": "python",
   "pygments_lexer": "ipython3",
   "version": "3.6.7"
  }
 },
 "nbformat": 4,
 "nbformat_minor": 2
}
